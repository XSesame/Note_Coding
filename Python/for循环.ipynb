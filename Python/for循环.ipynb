{
 "cells": [
  {
   "cell_type": "markdown",
   "id": "0755cb98-87c5-4c0d-a594-c0cd556abfec",
   "metadata": {},
   "source": [
    "for循环是一种常见的迭代结构，用于遍历序列（如列表、元组、字符串）或其他可迭代对象（如字典、文件对象、范围）。通过for循环，可以对序列中的每个元素执行一系列操作，使代码既简洁又易于阅读。"
   ]
  },
  {
   "cell_type": "markdown",
   "id": "640fc5ab-4e59-4bcb-ad80-0ea7cf466d1a",
   "metadata": {},
   "source": [
    "### for循环的基本语法如下："
   ]
  },
  {
   "cell_type": "markdown",
   "id": "edb7fd52-9cfe-4635-88ca-d57d2cec8f0d",
   "metadata": {
    "tags": []
   },
   "source": [
    "```Python\n",
    "for item in iterable:# 执行的操作\n",
    "```"
   ]
  },
  {
   "cell_type": "markdown",
   "id": "e58160cf-39e9-45c1-9623-02af48e4b26e",
   "metadata": {},
   "source": [
    "- `iterable`是你要遍历的可迭代对象。\n",
    "- `item`是循环体内，当前迭代到的元素的引用。"
   ]
  },
  {
   "cell_type": "markdown",
   "id": "8d75db19-5b6f-40d6-8d80-c9c9a2a53855",
   "metadata": {
    "tags": []
   },
   "source": [
    "### 示例：遍历列表"
   ]
  },
  {
   "cell_type": "code",
   "execution_count": 11,
   "id": "bfc6a150-633e-4bf2-8bdf-159d70c366b3",
   "metadata": {
    "tags": []
   },
   "outputs": [
    {
     "name": "stdout",
     "output_type": "stream",
     "text": [
      "apple\n",
      "banana\n",
      "cherry\n"
     ]
    }
   ],
   "source": [
    "fruits = [\"apple\", \"banana\", \"cherry\"]\n",
    "for fruit in fruits:\n",
    "    print(fruit)"
   ]
  },
  {
   "cell_type": "markdown",
   "id": "0b624e4c-7dfa-43d3-8662-82285adde9a8",
   "metadata": {},
   "source": [
    "这个例子会依次输出列表`fruits`中的每个元素。"
   ]
  },
  {
   "cell_type": "markdown",
   "id": "dfaf3ac0-c802-4d05-afcb-ecc59803ffbd",
   "metadata": {},
   "source": [
    "### 使用`range()`函数：生成一个数值序列:"
   ]
  },
  {
   "cell_type": "code",
   "execution_count": 12,
   "id": "c0b335e4-1942-46f0-810f-5999f35aff36",
   "metadata": {
    "tags": []
   },
   "outputs": [
    {
     "name": "stdout",
     "output_type": "stream",
     "text": [
      "0\n",
      "1\n",
      "2\n",
      "3\n",
      "4\n"
     ]
    }
   ],
   "source": [
    "for i in range(5): # 默认从0开始\n",
    "    print(i)"
   ]
  },
  {
   "cell_type": "markdown",
   "id": "47c40a5c-1166-45bb-8139-94bda651ab62",
   "metadata": {},
   "source": [
    "### 遍历字典：可以遍历其键、值或两者："
   ]
  },
  {
   "cell_type": "code",
   "execution_count": 13,
   "id": "7338dc02-c613-4a20-a391-65a01ab5d824",
   "metadata": {
    "tags": []
   },
   "outputs": [
    {
     "name": "stdout",
     "output_type": "stream",
     "text": [
      "name\n",
      "country\n",
      "John\n",
      "Norway\n",
      "name John\n",
      "country Norway\n"
     ]
    }
   ],
   "source": [
    "dict = {\"name\": \"John\", \"country\": \"Norway\"}\n",
    "# 遍历键\n",
    "for key in dict:\n",
    "    print(key)\n",
    "\n",
    "# 遍历值\n",
    "for value in dict.values():\n",
    "    print(value)\n",
    "\n",
    "# 遍历键和值\n",
    "for key, value in dict.items():\n",
    "    print(key, value)"
   ]
  },
  {
   "cell_type": "markdown",
   "id": "53a85955-3ee5-45c7-8319-181ec5464694",
   "metadata": {
    "tags": []
   },
   "source": [
    "### 循环嵌套：for循环可以嵌套使用，以处理多维数据结构："
   ]
  },
  {
   "cell_type": "code",
   "execution_count": 14,
   "id": "b8b84688-35c2-4974-aec9-1b537312f470",
   "metadata": {
    "tags": []
   },
   "outputs": [
    {
     "name": "stdout",
     "output_type": "stream",
     "text": [
      "1\n",
      "2\n",
      "3\n",
      "4\n",
      "5\n",
      "6\n",
      "7\n",
      "8\n",
      "9\n"
     ]
    }
   ],
   "source": [
    "matrix = [[1, 2, 3],[4, 5, 6],[7, 8, 9]]\n",
    "for row in matrix:\n",
    "    for item in row:\n",
    "        print(item)"
   ]
  },
  {
   "cell_type": "markdown",
   "id": "42f55953-78c3-4418-8709-4a5bf831cc80",
   "metadata": {},
   "source": [
    "### 列表推导式：一种更简洁的方式来创建列表："
   ]
  },
  {
   "cell_type": "code",
   "execution_count": 15,
   "id": "40603e12-5b30-4e13-862d-8e3f27de2d4b",
   "metadata": {
    "tags": []
   },
   "outputs": [
    {
     "name": "stdout",
     "output_type": "stream",
     "text": [
      "[0, 1, 4, 9, 16, 25, 36, 49, 64, 81]\n"
     ]
    }
   ],
   "source": [
    "squares = [x**2 for x in range(10)]\n",
    "print(squares)"
   ]
  },
  {
   "cell_type": "markdown",
   "id": "585a9623-80d9-4866-ae94-f5ad0b37bce9",
   "metadata": {},
   "source": [
    "### `break`和`continue`"
   ]
  },
  {
   "cell_type": "code",
   "execution_count": 16,
   "id": "9329168e-cfd7-4be9-8dcb-cfa19cad4d09",
   "metadata": {
    "tags": []
   },
   "outputs": [
    {
     "name": "stdout",
     "output_type": "stream",
     "text": [
      "0\n",
      "1\n",
      "2\n",
      "0\n",
      "1\n",
      "3\n",
      "4\n"
     ]
    }
   ],
   "source": [
    "for num in range(5):\n",
    "    if num == 3:\n",
    "        break # 当num等于3时退出循环\n",
    "    print(num)\n",
    "\n",
    "for num in range(5):\n",
    "    if num == 2:\n",
    "        continue # 当num等于2时跳过当前迭代\n",
    "    print(num)"
   ]
  },
  {
   "cell_type": "markdown",
   "id": "ecae2029-8cad-47a5-98fe-162e22b6dcfb",
   "metadata": {},
   "source": [
    "- `break`：立即退出循环。\n",
    "- `continue`：跳过当前迭代，继续下一次迭代。"
   ]
  },
  {
   "cell_type": "markdown",
   "id": "57b1b162-f1ed-4397-bb6b-8542fd96121b",
   "metadata": {},
   "source": [
    "### else子句：在循环正常结束时执行，但如果循环被break语句退出，则不执行。"
   ]
  },
  {
   "cell_type": "code",
   "execution_count": 17,
   "id": "7025972c-72ba-4469-b6f1-a800222d2ef3",
   "metadata": {
    "tags": []
   },
   "outputs": [
    {
     "name": "stdout",
     "output_type": "stream",
     "text": [
      "0\n",
      "1\n",
      "2\n",
      "Done!\n"
     ]
    }
   ],
   "source": [
    "for num in range(3):\n",
    "    print(num)\n",
    "else:\n",
    "    print(\"Done!\")"
   ]
  }
 ],
 "metadata": {
  "kernelspec": {
   "display_name": "Python 3 (ipykernel)",
   "language": "python",
   "name": "python3"
  },
  "language_info": {
   "codemirror_mode": {
    "name": "ipython",
    "version": 3
   },
   "file_extension": ".py",
   "mimetype": "text/x-python",
   "name": "python",
   "nbconvert_exporter": "python",
   "pygments_lexer": "ipython3",
   "version": "3.11.5"
  }
 },
 "nbformat": 4,
 "nbformat_minor": 5
}
