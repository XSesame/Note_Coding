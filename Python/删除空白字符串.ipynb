{
 "cells": [
  {
   "cell_type": "markdown",
   "id": "38092705-b2ec-4ba3-816f-1b28e9d93b05",
   "metadata": {},
   "source": [
    "无论是Python还是其他编程语言，删除字符串中的空白字符都是一个常见的操作，这个操作可以帮助清理或准备数据进行进一步处理。“空白字符”通常包括空格、制表符、换行符等。根据具体的需求，有多种方法可以删除字符串中的空白字符，这里介绍几种常见的方法："
   ]
  },
  {
   "cell_type": "markdown",
   "id": "36ec50cd-3efe-45e4-9d3e-4919ade22424",
   "metadata": {},
   "source": [
    "### 使用strip(), rstrip(), 和lstrip()方法：\n",
    "1) strip()方法用于删除字符串前后的空白字符。\n",
    "2) lstrip()方法用于只删除字符串开始的空白字符。\n",
    "3) rstrip()方法用于只删除字符串末尾的空白字符。"
   ]
  },
  {
   "cell_type": "code",
   "execution_count": 2,
   "id": "13b32b77-100c-49d2-83b5-8ee8eff71b32",
   "metadata": {},
   "outputs": [
    {
     "name": "stdout",
     "output_type": "stream",
     "text": [
      "hello world\n",
      "hello world  \n",
      "  hello world\n"
     ]
    }
   ],
   "source": [
    "s = \"  hello world  \"\n",
    "print(s.strip())  # \"hello world\"\n",
    "print(s.lstrip())  # \"hello world  \"\n",
    "print(s.rstrip())  # \"  hello world\""
   ]
  },
  {
   "cell_type": "markdown",
   "id": "b92a622f-87ce-4cd3-b32b-b2a156a11c9f",
   "metadata": {},
   "source": [
    "### 使用replace()方法：\n",
    "如果想删除字符串中所有的某个特定空白字符，可以使用replace()方法："
   ]
  },
  {
   "cell_type": "code",
   "execution_count": 3,
   "id": "8968bac9-1128-4652-a817-96cdd28d91eb",
   "metadata": {},
   "outputs": [
    {
     "name": "stdout",
     "output_type": "stream",
     "text": [
      "helloworld\n"
     ]
    }
   ],
   "source": [
    "s = \"hello world\"\n",
    "print(s.replace(\" \",\"\")) # \"helloworld\""
   ]
  },
  {
   "cell_type": "markdown",
   "id": "c15a03e6-9298-4bd4-bf81-a783b9d35781",
   "metadata": {},
   "source": [
    "### 使用正则表达式"
   ]
  },
  {
   "cell_type": "markdown",
   "id": "45fd162d-1da4-4fcf-acba-249cc1d4ecab",
   "metadata": {},
   "source": [
    "对于更复杂的空白字符删除需求，可以使用`Python`的`re`模块提供的正则表达式功能。这种方法可以定制复杂的空白字符删除规则，例如删除字符串中的所有空白字符："
   ]
  },
  {
   "cell_type": "code",
   "execution_count": 4,
   "id": "5562cd9e-3041-4c04-8aff-8634d8624fe5",
   "metadata": {},
   "outputs": [
    {
     "name": "stdout",
     "output_type": "stream",
     "text": [
      "helloworld\n"
     ]
    }
   ],
   "source": [
    "import re\n",
    "\n",
    "s = \"hello\\n world\\t\"\n",
    "cleaned_s = re.sub(r\"\\s+\",\"\", s) # 删除所有空白字符\n",
    "print(cleaned_s) # \"helloworld\""
   ]
  },
  {
   "cell_type": "markdown",
   "id": "0fbb143c-14bc-434e-9940-75c06f5c5219",
   "metadata": {},
   "source": [
    "在这个例子中，`\\s+`是一个正则表达式，匹配任何空白字符序列。"
   ]
  },
  {
   "cell_type": "markdown",
   "id": "b6bf4754-47b5-4762-ad3f-eb296705e05a",
   "metadata": {},
   "source": [
    "### 使用列表推导式和`join()`方法\n",
    "如果想删除字符串中间的空格，但保留单词间的单个空格，可以使用列表推导式和join()方法结合使用："
   ]
  },
  {
   "cell_type": "code",
   "execution_count": 5,
   "id": "54ee9d95-93a0-436d-beaf-9fefaa678315",
   "metadata": {},
   "outputs": [
    {
     "name": "stdout",
     "output_type": "stream",
     "text": [
      "hello world with spaces\n"
     ]
    }
   ],
   "source": [
    "s = \"hello  world  with  spaces\"\n",
    "words = [word for word in s.split(\" \") if word]\n",
    "cleaned_s = \" \".join(words)\n",
    "print(cleaned_s) # \"hello world with spaces\""
   ]
  },
  {
   "cell_type": "markdown",
   "id": "17083c35-e7d0-4c2e-926f-e55aa046ee2d",
   "metadata": {},
   "source": [
    "这里，split(\" \")按空格分割字符串，列表推导式构建一个不包含空字符串的列表，然后用join()方法将它们用一个空格连接起来。"
   ]
  }
 ],
 "metadata": {
  "kernelspec": {
   "display_name": "Python 3 (ipykernel)",
   "language": "python",
   "name": "python3"
  },
  "language_info": {
   "codemirror_mode": {
    "name": "ipython",
    "version": 3
   },
   "file_extension": ".py",
   "mimetype": "text/x-python",
   "name": "python",
   "nbconvert_exporter": "python",
   "pygments_lexer": "ipython3",
   "version": "3.11.7"
  }
 },
 "nbformat": 4,
 "nbformat_minor": 5
}
