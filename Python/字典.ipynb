{
 "cells": [
  {
   "cell_type": "markdown",
   "id": "9d8127a3-e49f-4a50-b22e-a48fb7b1029c",
   "metadata": {},
   "source": [
    "Python中的字典（Dictionary）是一种可变的容器模型，可以存储任意类型对象，如字符串、数字、元组等。字典由键（Key）和值（Value）成对组成。字典的每个键值对（元素）用冒号（:）分割，每个元素之间用逗号分割，整个字典包括在花括号{}中。键必须是唯一的，而值则不必。"
   ]
  },
  {
   "cell_type": "code",
   "execution_count": 2,
   "id": "46e5893e-e12b-47a9-bccd-a91334d46307",
   "metadata": {
    "tags": []
   },
   "outputs": [
    {
     "name": "stdout",
     "output_type": "stream",
     "text": [
      "{'name': 'John', 'age': 30, 'city': 'New York'}\n"
     ]
    }
   ],
   "source": [
    "# 创建一个字典最简单的方式就是使用花括号{}：\n",
    "\n",
    "my_dict = {\"name\": \"John\", \"age\": 30, \"city\": \"New York\"}\n",
    "print(my_dict)"
   ]
  },
  {
   "cell_type": "code",
   "execution_count": 3,
   "id": "428b30c9-a1fc-46e2-bc24-7c573df4be35",
   "metadata": {
    "tags": []
   },
   "outputs": [
    {
     "name": "stdout",
     "output_type": "stream",
     "text": [
      "{'name': 'John', 'age': 30, 'city': 'New York'}\n"
     ]
    }
   ],
   "source": [
    "# 还可以使用dict()构造函数：\n",
    "my_dict = dict(name=\"John\", age=30, city=\"New York\")\n",
    "print(my_dict)"
   ]
  },
  {
   "cell_type": "code",
   "execution_count": 8,
   "id": "973d3e1d-dc95-4557-8823-5160904c8d5e",
   "metadata": {
    "tags": []
   },
   "outputs": [
    {
     "name": "stdout",
     "output_type": "stream",
     "text": [
      "John\n"
     ]
    }
   ],
   "source": [
    "# 可以使用键来访问字典中的值：\n",
    "print(my_dict[\"name\"]) # 输出：John"
   ]
  },
  {
   "cell_type": "code",
   "execution_count": 11,
   "id": "90a25e07-ac2e-4c59-97b0-ee7b816f325b",
   "metadata": {
    "tags": []
   },
   "outputs": [
    {
     "name": "stdout",
     "output_type": "stream",
     "text": [
      "None\n",
      "Not Available\n"
     ]
    }
   ],
   "source": [
    "# 如果访问的键不存在，Python会抛出一个KeyError。\n",
    "# 为了避免这种错误，可以使用get()方法访问值.\n",
    "# 如果键不存在，get()方法会返回None，也可以指定一个默认值：\n",
    "print(my_dict.get(\"address\"))  # 输出: None\n",
    "print(my_dict.get(\"address\", \"Not Available\"))  # 输出: Not Available"
   ]
  },
  {
   "cell_type": "code",
   "execution_count": 14,
   "id": "4a06851a-461f-4895-82da-6eae830943a7",
   "metadata": {
    "tags": []
   },
   "outputs": [
    {
     "name": "stdout",
     "output_type": "stream",
     "text": [
      "{'name': 'Jane', 'age': 30, 'city': 'New York', 'email': 'john@example.com'}\n"
     ]
    }
   ],
   "source": [
    "# 可以通过指定键的方式来添加或修改字典中的元素：\n",
    "my_dict[\"email\"] = \"john@example.com\" # 添加新的键值对\n",
    "my_dict[\"name\"] = \"Jane\" # 修改已有键的值\n",
    "print(my_dict)"
   ]
  },
  {
   "cell_type": "code",
   "execution_count": 23,
   "id": "71c28986-775d-4039-9773-9768f9d372ea",
   "metadata": {
    "tags": []
   },
   "outputs": [
    {
     "name": "stdout",
     "output_type": "stream",
     "text": [
      "{'name': 'John', 'city': 'New York'}\n",
      "{'name': 'John'}\n"
     ]
    }
   ],
   "source": [
    "my_dict = {\"name\": \"John\", \"age\": 30, \"city\": \"New York\"}\n",
    "\n",
    "# 可以使用del语句或pop()方法删除字典中的元素：\n",
    "# 使用del语句时，必须指定字典名和要删除的键。'\n",
    "\n",
    "del my_dict['age']  # 删除键是\"age\"的条目\n",
    "print(my_dict)\n",
    "removed_value = my_dict.pop('city')  # 删除并获取键是\"city\"的条目的值\n",
    "print(my_dict)"
   ]
  },
  {
   "cell_type": "code",
   "execution_count": 18,
   "id": "a26552ed-5c21-4676-9b50-ab71627113b0",
   "metadata": {
    "tags": []
   },
   "outputs": [],
   "source": [
    "# 字典的键必然是不可变类型，如字符串、数字或元组。"
   ]
  },
  {
   "cell_type": "code",
   "execution_count": 25,
   "id": "c3974844-86f4-48ad-adab-5986713f7659",
   "metadata": {
    "tags": []
   },
   "outputs": [
    {
     "name": "stdout",
     "output_type": "stream",
     "text": [
      "name\n",
      "age\n",
      "city\n",
      "John\n",
      "30\n",
      "New York\n",
      "name John\n",
      "age 30\n",
      "city New York\n"
     ]
    }
   ],
   "source": [
    "my_dict = {\"name\": \"John\", \"age\": 30, \"city\": \"New York\"}\n",
    "\n",
    "# 可以使用for循环来遍历字典：\n",
    "# 遍历所有的键\n",
    "for key in my_dict:\n",
    "    print(key)\n",
    "\n",
    "# 遍历所有的值\n",
    "for value in my_dict.values():\n",
    "    print(value)\n",
    "\n",
    "#遍历所有的键值对\n",
    "for key, value in my_dict.items():\n",
    "    print(key, value)"
   ]
  },
  {
   "cell_type": "code",
   "execution_count": 26,
   "id": "8505cf33-04f2-44d3-8385-0f721a618e83",
   "metadata": {
    "tags": []
   },
   "outputs": [
    {
     "name": "stdout",
     "output_type": "stream",
     "text": [
      "3\n"
     ]
    }
   ],
   "source": [
    "# 使用len()函数可以获取字典中键值对的数量：\n",
    "print(len(my_dict))"
   ]
  },
  {
   "cell_type": "code",
   "execution_count": 28,
   "id": "8f885dab-b345-4c08-b682-669f8c215dc0",
   "metadata": {
    "tags": []
   },
   "outputs": [
    {
     "name": "stdout",
     "output_type": "stream",
     "text": [
      "{'a': 1, 'b': 2, 'c': 3, 'd': 4}\n",
      "{'a': 1, 'b': 2, 'c': 3, 'd': 4}\n"
     ]
    }
   ],
   "source": [
    "# Python 3.5+支持使用{**d1, **d2}的方式合并两个字典，Python 3.9+则引入了新的运算符|来合并字典：\n",
    "dict1 = {\"a\":1, \"b\":2}\n",
    "dict2 = {\"c\":3, \"d\":4}\n",
    "merged_dict = {**dict1, **dict2}\n",
    "print(merged_dict)\n",
    "\n",
    "# 或者\n",
    "merged_dict = dict1 | dict2\n",
    "print(merged_dict)"
   ]
  },
  {
   "cell_type": "code",
   "execution_count": 29,
   "id": "e2a98d0c-5038-4250-ba6c-1329c60d5afb",
   "metadata": {
    "tags": []
   },
   "outputs": [
    {
     "name": "stdout",
     "output_type": "stream",
     "text": [
      "{0: 0, 1: 1, 2: 4, 3: 9, 4: 16, 5: 25}\n"
     ]
    }
   ],
   "source": [
    "# 字典推导式是创建字典的一种简洁方式，类似于列表推导式：\n",
    "squares = {x: x*x for x in range(6)}\n",
    "print(squares)"
   ]
  }
 ],
 "metadata": {
  "kernelspec": {
   "display_name": "Python 3 (ipykernel)",
   "language": "python",
   "name": "python3"
  },
  "language_info": {
   "codemirror_mode": {
    "name": "ipython",
    "version": 3
   },
   "file_extension": ".py",
   "mimetype": "text/x-python",
   "name": "python",
   "nbconvert_exporter": "python",
   "pygments_lexer": "ipython3",
   "version": "3.11.5"
  }
 },
 "nbformat": 4,
 "nbformat_minor": 5
}
