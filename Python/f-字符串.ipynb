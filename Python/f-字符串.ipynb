{
 "cells": [
  {
   "cell_type": "markdown",
   "id": "dfb79f96-db4e-46e7-b46f-e77843766df0",
   "metadata": {},
   "source": [
    "Python 的 f-字符串（格式化字符串字面值）是自 Python 3.6 版本引入的一种字符串格式化机制，它通过在字符串前加上字母 f 或 F 来实现。f-字符串提供了一种非常方便和高效的方式来嵌入表达式到字符串字面值中，表达式的结果会直接插入到字符串中。这种方法不仅使代码更简洁易读，而且执行速度也比传统的格式化方法（如 % 格式化或 str.format() 方法）更快。"
   ]
  },
  {
   "cell_type": "markdown",
   "id": "6677932b-800d-4d48-85eb-8d1e4acedc65",
   "metadata": {},
   "source": [
    "### 基本的f-字符串看起来是这样的："
   ]
  },
  {
   "cell_type": "code",
   "execution_count": 2,
   "id": "28140ebb-9b41-4f59-b883-6c977aa5ec67",
   "metadata": {},
   "outputs": [
    {
     "name": "stdout",
     "output_type": "stream",
     "text": [
      "Hello,World!\n"
     ]
    }
   ],
   "source": [
    "name = \"World\"\n",
    "message = f\"Hello,{name}!\"\n",
    "print(message) # 输出：Hello,World!"
   ]
  },
  {
   "cell_type": "markdown",
   "id": "74a65a87-1e21-4487-8364-c344bb02b866",
   "metadata": {},
   "source": [
    "在这个例子中，{name} 是一个表达式，它被替换成了变量 name 的值。"
   ]
  },
  {
   "cell_type": "markdown",
   "id": "2328c075-1682-452b-b939-14d24870b029",
   "metadata": {},
   "source": [
    "### f-字符串中可以包含各种类型的表达式，比如算术运算、方法调用等："
   ]
  },
  {
   "cell_type": "code",
   "execution_count": 3,
   "id": "9d286462-e679-47db-9f56-5fa624094fe3",
   "metadata": {},
   "outputs": [
    {
     "name": "stdout",
     "output_type": "stream",
     "text": [
      "10 times 20 is 200\n",
      "Lowercase name:alice\n"
     ]
    }
   ],
   "source": [
    "x = 10\n",
    "y = 20\n",
    "print(f\"{x} times {y} is {x * y}\") # 输出：10 times 20 is 200\n",
    "\n",
    "name = \"ALICE\"\n",
    "print(f\"Lowercase name:{name.lower()}\") # 输出：Lowercase name:alice"
   ]
  },
  {
   "cell_type": "markdown",
   "id": "865231bb-3f9b-4f4a-a1f8-ea2606d8a224",
   "metadata": {},
   "source": [
    "### 如果你需要在f-字符串中表示一个大括号，可以通过重复大括号来实现："
   ]
  },
  {
   "cell_type": "code",
   "execution_count": 4,
   "id": "d41ecd94-0aa6-45e6-94ae-8922b839e51c",
   "metadata": {},
   "outputs": [
    {
     "name": "stdout",
     "output_type": "stream",
     "text": [
      "{Hello}\n"
     ]
    }
   ],
   "source": [
    "print(f\"{{Hello}}\") # 输出：{Hello}"
   ]
  },
  {
   "cell_type": "markdown",
   "id": "44fe9146-a7d2-49b1-9303-659925be2c97",
   "metadata": {},
   "source": [
    "### f-字符串还支持使用 Python 的格式化规范语言来控制值的格式化方式，比如数字的格式、对齐方式等："
   ]
  },
  {
   "cell_type": "code",
   "execution_count": 6,
   "id": "37b736af-5da5-4c03-80be-2124661aa729",
   "metadata": {},
   "outputs": [
    {
     "name": "stdout",
     "output_type": "stream",
     "text": [
      "Pi rounded to two decimal places:3.14\n",
      "Name:       Bob\n"
     ]
    }
   ],
   "source": [
    "number = 3.14159\n",
    "print(f\"Pi rounded to two decimal places:{number:.2f}\")\n",
    "# 输出：Pi rounded to two decimal places: 3.14\n",
    "\n",
    "name = \"Bob\"\n",
    "print(f\"Name:{name:>10}\") # 输出：Name：\t\tBob（右对齐）"
   ]
  },
  {
   "cell_type": "markdown",
   "id": "016f1239-c99a-4782-abdb-0a6987b0ca55",
   "metadata": {},
   "source": [
    "### f-字符串也可以跨越多行，只需确保在每一行的开始和结束都使用三引号，并且每行的 f 前缀不要遗漏："
   ]
  },
  {
   "cell_type": "code",
   "execution_count": 8,
   "id": "4a6d68c2-b07c-4e17-bae3-6084bdd56ddd",
   "metadata": {},
   "outputs": [
    {
     "name": "stdout",
     "output_type": "stream",
     "text": [
      "\n",
      "Name: Alice\n",
      "Occupation: engineer\n",
      "\n"
     ]
    }
   ],
   "source": [
    "name = \"Alice\"\n",
    "occupation = \"engineer\"\n",
    "message = f\"\"\"\n",
    "Name: {name}\n",
    "Occupation: {occupation}\n",
    "\"\"\"\n",
    "print(message)"
   ]
  }
 ],
 "metadata": {
  "kernelspec": {
   "display_name": "Python 3 (ipykernel)",
   "language": "python",
   "name": "python3"
  },
  "language_info": {
   "codemirror_mode": {
    "name": "ipython",
    "version": 3
   },
   "file_extension": ".py",
   "mimetype": "text/x-python",
   "name": "python",
   "nbconvert_exporter": "python",
   "pygments_lexer": "ipython3",
   "version": "3.11.7"
  }
 },
 "nbformat": 4,
 "nbformat_minor": 5
}
